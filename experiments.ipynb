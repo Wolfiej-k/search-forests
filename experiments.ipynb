{
 "cells": [
  {
   "cell_type": "code",
   "execution_count": null,
   "metadata": {},
   "outputs": [],
   "source": [
    "import importlib\n",
    "import matplotlib.pyplot as plt\n",
    "import benchmark_module\n",
    "importlib.reload(benchmark_module)"
   ]
  },
  {
   "cell_type": "code",
   "execution_count": null,
   "metadata": {},
   "outputs": [],
   "source": [
    "from benchmark_module import \\\n",
    "    benchmark, \\\n",
    "    generate_zipf_queries, \\\n",
    "    generate_noisy_frequencies, \\\n",
    "    generate_noisy_ranks, \\\n",
    "    generate_noisy_accesses, \\\n",
    "    RandomEngine"
   ]
  },
  {
   "cell_type": "code",
   "execution_count": null,
   "metadata": {},
   "outputs": [],
   "source": [
    "NUM_KEYS = 100_000\n",
    "NUM_QUERIES = 100_000\n",
    "ZIPF_ALPHA = 1.0\n",
    "PRED_EPSILON = 1\n",
    "PRED_DELTA = 0\n",
    "GEN = RandomEngine(seed=42)"
   ]
  },
  {
   "cell_type": "code",
   "execution_count": null,
   "metadata": {},
   "outputs": [],
   "source": [
    "import matplotlib.pyplot as plt\n",
    "import seaborn as sns\n",
    "\n",
    "structures = [\"f_forest\", \"learned_f_forest\", \"r_forest\", \"learned_r_forest\", \"learned_treap\", \"robustsl\", \"rb_tree\"]\n",
    "structure_colors = {s: c for s, c in zip(structures, sns.color_palette(\"tab20\", len(structures)))}"
   ]
  },
  {
   "cell_type": "code",
   "execution_count": null,
   "metadata": {},
   "outputs": [],
   "source": [
    "def bar_plot_res(li, structures, query_stats, insert_stats, x_label, y_label, show_insert=False, trunc=5):\n",
    "    w = 0.12\n",
    "    bar_spacing = 0.02\n",
    "    group_spacing = 0.16\n",
    "\n",
    "    group_width = len(structures) * (w + bar_spacing) + group_spacing\n",
    "    colors = [structure_colors[s] for s in structures]\n",
    "\n",
    "    if show_insert:\n",
    "        fig, axes = plt.subplots(1, 2, figsize=(20, 6), constrained_layout=True)\n",
    "        ax1, ax2 = axes\n",
    "    else:\n",
    "        fig, ax2 = plt.subplots(1, 1, figsize=(10, 6), constrained_layout=True)\n",
    "\n",
    "    x = range(len(li))\n",
    "\n",
    "    if show_insert:\n",
    "        all_insert_values = [insert_stats[a][s] for a in li for s in structures]\n",
    "        min_insert = min(all_insert_values)\n",
    "        max_insert = trunc * min_insert\n",
    "\n",
    "        for i, s in enumerate(structures):\n",
    "            y = [insert_stats[a][s] for a in li]\n",
    "            bar_positions = [xi * group_width + i * (w + bar_spacing) for xi in x]\n",
    "            ax1.bar(bar_positions, [min(v, max_insert) for v in y], width=w, label=s, color=colors[i])\n",
    "            for j, val in enumerate(y):\n",
    "                if val > max_insert:\n",
    "                    ax1.text(bar_positions[j], max_insert + 0.02 * max_insert, f\"{val:.2f}\",\n",
    "                             ha='center', va='bottom', fontsize=8, rotation=45)\n",
    "\n",
    "        ax1.set_ylim(0, max_insert * 1.15)\n",
    "        ax1.set_xticks([xi * group_width + (len(structures) - 1) * (w + bar_spacing) / 2 for xi in x])\n",
    "        ax1.set_xticklabels([str(v) for v in li])\n",
    "        ax1.set_xlabel(x_label)\n",
    "        ax1.set_ylabel(f\"{y_label} (insert)\")\n",
    "        ax1.grid(axis='y', linestyle='--', alpha=0.5)\n",
    "\n",
    "    all_query_values = [query_stats[a][s] for a in li for s in structures]\n",
    "    min_query = min(all_query_values)\n",
    "    max_query = trunc * min_query\n",
    "\n",
    "    for i, s in enumerate(structures):\n",
    "        y2 = [query_stats[a][s] for a in li]\n",
    "        bar_positions = [xi * group_width + i * (w + bar_spacing) for xi in x]\n",
    "        ax2.bar(bar_positions, [min(v, max_query) for v in y2], width=w, label=s, color=colors[i])\n",
    "        for j, val in enumerate(y2):\n",
    "            if val > max_query:\n",
    "                ax2.text(bar_positions[j], max_query + 0.02 * max_query, f\"{val:.2f}\",\n",
    "                         ha='center', va='bottom', fontsize=8, rotation=45)\n",
    "\n",
    "    ax2.set_ylim(0, max_query * 1.15)\n",
    "    ax2.set_xticks([xi * group_width + (len(structures) - 1) * (w + bar_spacing) / 2 for xi in x])\n",
    "    ax2.set_xticklabels([str(v) for v in li])\n",
    "    ax2.set_xlabel(x_label)\n",
    "    ax2.set_ylabel(f\"{y_label} (query)\")\n",
    "    ax2.grid(axis='y', linestyle='--', alpha=0.5)\n",
    "\n",
    "    fig.legend(structures, loc='center left', bbox_to_anchor=(1.01, 0.5), frameon=False)\n",
    "    plt.show()"
   ]
  },
  {
   "cell_type": "code",
   "execution_count": null,
   "metadata": {},
   "outputs": [],
   "source": [
    "def line_plot_res(li, structures, query_stats, insert_stats, x_label, y_label, show_insert=False):\n",
    "    colors = [structure_colors[s] for s in structures]\n",
    "    \n",
    "    if show_insert:\n",
    "        fig, axes = plt.subplots(1, 2, figsize=(20, 6), constrained_layout=True)\n",
    "        ax1, ax2 = axes\n",
    "    else:\n",
    "        fig, ax2 = plt.subplots(1, 1, figsize=(10, 6), constrained_layout=True)\n",
    "\n",
    "    x = list(range(len(li)))\n",
    "\n",
    "    if show_insert:\n",
    "        for i, s in enumerate(structures):\n",
    "            y = [insert_stats[a][s] for a in li]\n",
    "            ax1.plot(x, y, label=s, color=colors[i], marker='o')\n",
    "\n",
    "        ax1.set_xticks(x)\n",
    "        ax1.set_xticklabels([str(v) for v in li])\n",
    "        ax1.set_xlabel(x_label)\n",
    "        ax1.set_ylabel(f\"{y_label} (insert)\")\n",
    "        ax1.grid(axis='y', linestyle='--', alpha=0.5)\n",
    "\n",
    "    for i, s in enumerate(structures):\n",
    "        y2 = [query_stats[a][s] for a in li]\n",
    "        ax2.plot(x, y2, label=s, color=colors[i], marker='o')\n",
    "\n",
    "    ax2.set_xticks(x)\n",
    "    ax2.set_xticklabels([str(v) for v in li])\n",
    "    ax2.set_xlabel(x_label)\n",
    "    ax2.set_ylabel(f\"{y_label} (query)\")\n",
    "    ax2.grid(axis='y', linestyle='--', alpha=0.5)\n",
    "\n",
    "    fig.legend(structures, loc='center left', bbox_to_anchor=(1.01, 0.5), frameon=False)\n",
    "    plt.show()"
   ]
  },
  {
   "cell_type": "code",
   "execution_count": null,
   "metadata": {},
   "outputs": [],
   "source": [
    "def run_key_experiments(num_keys_options, num_queries, alpha, epsilon, delta, gen):\n",
    "    query_stats = {}\n",
    "    insert_stats = {}\n",
    "        \n",
    "    for num_keys in num_keys_options:\n",
    "        queries = generate_zipf_queries(num_keys * 1000, num_queries, alpha, gen)\n",
    "        frequencies = generate_noisy_frequencies(queries, num_keys * 1000, epsilon, delta, gen)\n",
    "        ranks = generate_noisy_ranks(frequencies, epsilon, delta, gen)\n",
    "        accesses = generate_noisy_accesses(queries, num_keys * 1000, epsilon, delta, gen)\n",
    "        out = benchmark(queries, frequencies, ranks, accesses, gen)\n",
    "\n",
    "        query_stats[num_keys] = out[\"queries\"][\"comparisons\"]\n",
    "        insert_stats[num_keys] = out[\"inserts\"][\"comparisons\"]\n",
    "        print(out[\"queries\"][\"compactions\"])\n",
    "        \n",
    "    structures = list(query_stats[num_keys_options[0]].keys())\n",
    "    x_label = \"Number of keys (thousands)\"\n",
    "    y_label = f\"Average number of comparisons\"\n",
    "    \n",
    "    line_plot_res(num_keys_options, structures, query_stats, insert_stats, x_label, y_label, True)"
   ]
  },
  {
   "cell_type": "code",
   "execution_count": null,
   "metadata": {},
   "outputs": [],
   "source": [
    "num_keys_options = [5 * i for i in range(1, 21)]\n",
    "run_key_experiments(num_keys_options, NUM_QUERIES, ZIPF_ALPHA, PRED_EPSILON, PRED_DELTA, GEN)"
   ]
  },
  {
   "cell_type": "code",
   "execution_count": null,
   "metadata": {},
   "outputs": [],
   "source": [
    "def run_alpha_experiments(num_keys, num_queries, alpha_options, epsilon, delta, gen):\n",
    "    query_stats = {}\n",
    "        \n",
    "    for alpha in alpha_options:\n",
    "        queries = generate_zipf_queries(num_keys, num_queries, alpha, gen)\n",
    "        frequencies = generate_noisy_frequencies(queries, num_keys, epsilon, delta, gen)\n",
    "        ranks = generate_noisy_ranks(frequencies, epsilon, delta, gen)\n",
    "        accesses = generate_noisy_accesses(queries, num_keys, epsilon, delta, gen)\n",
    "        out = benchmark(queries, frequencies, ranks, accesses, gen)\n",
    "\n",
    "        query_stats[alpha] = out[\"queries\"][\"comparisons\"]\n",
    "        \n",
    "    structures = list(query_stats[alpha_options[0]].keys())\n",
    "    x_label = \"Zipf parameter alpha\"\n",
    "    y_label = f\"Average number of comparisons\"\n",
    "\n",
    "    bar_plot_res(alpha_options, structures, query_stats, None, x_label, y_label)"
   ]
  },
  {
   "cell_type": "code",
   "execution_count": null,
   "metadata": {},
   "outputs": [],
   "source": [
    "alpha_options = [1., 1.25, 1.5, 2., 3., 5., 10.]\n",
    "run_alpha_experiments(NUM_KEYS, NUM_QUERIES, alpha_options, PRED_EPSILON, PRED_DELTA, GEN)"
   ]
  },
  {
   "cell_type": "code",
   "execution_count": null,
   "metadata": {},
   "outputs": [],
   "source": [
    "def run_freq_error_experiments(num_keys, num_queries, alpha, error_options, gen):\n",
    "    query_stats = {}\n",
    "        \n",
    "    queries = generate_zipf_queries(num_keys, num_queries, alpha, gen)\n",
    "    perf_epsilon, perf_delta = error_options[0]\n",
    "    \n",
    "    for error in error_options:\n",
    "        epsilon, delta = error\n",
    "        frequencies = generate_noisy_frequencies(queries, num_keys, epsilon, delta, gen)\n",
    "        ranks = generate_noisy_ranks(frequencies, perf_epsilon, perf_delta, gen)\n",
    "        accesses = generate_noisy_accesses(queries, num_keys, perf_epsilon, perf_delta, gen)\n",
    "        out = benchmark(queries, frequencies, ranks, accesses, gen)\n",
    "\n",
    "        query_stats[error] = out[\"queries\"][\"comparisons\"]\n",
    "        del query_stats[error][\"f_forest\"]\n",
    "        del query_stats[error][\"r_forest\"]\n",
    "        del query_stats[error][\"learned_r_forest\"]\n",
    "        \n",
    "    structures = list(query_stats[error_options[0]].keys())\n",
    "    x_label = \"Error parameters (epsilon, delta)\"\n",
    "    y_label = f\"Average number of comparisons\"\n",
    "    \n",
    "    bar_plot_res(error_options, structures, query_stats, None, x_label, y_label)"
   ]
  },
  {
   "cell_type": "code",
   "execution_count": null,
   "metadata": {},
   "outputs": [],
   "source": [
    "error_options = [(1, 0), (2, 1), (3, 2), (4, 3), (5, 4), (10, 9), (25, 24), (50, 49), (100, 99), (250, 249)]\n",
    "run_freq_error_experiments(NUM_KEYS, NUM_QUERIES, 5.0, error_options, GEN)"
   ]
  },
  {
   "cell_type": "code",
   "execution_count": null,
   "metadata": {},
   "outputs": [],
   "source": [
    "def run_rank_error_experiments(num_keys, num_queries, alpha, error_options, gen):\n",
    "    query_stats = {}\n",
    "        \n",
    "    queries = generate_zipf_queries(num_keys, num_queries, alpha, gen)\n",
    "    perf_epsilon, perf_delta = error_options[0]\n",
    "    \n",
    "    for error in error_options:\n",
    "        epsilon, delta = error\n",
    "        frequencies = generate_noisy_frequencies(queries, num_keys, perf_epsilon, perf_delta, gen)\n",
    "        ranks = generate_noisy_ranks(frequencies, epsilon, delta, gen)\n",
    "        accesses = generate_noisy_accesses(queries, num_keys, perf_epsilon, perf_delta, gen)\n",
    "        out = benchmark(queries, frequencies, ranks, accesses, gen)\n",
    "\n",
    "        query_stats[error] = out[\"queries\"][\"comparisons\"]\n",
    "        del query_stats[error][\"f_forest\"]\n",
    "        del query_stats[error][\"r_forest\"]\n",
    "        del query_stats[error][\"learned_r_forest\"]\n",
    "        del query_stats[error][\"robustsl\"]\n",
    "        \n",
    "    structures = list(query_stats[error_options[0]].keys())\n",
    "    x_label = \"Error parameters (epsilon, delta)\"\n",
    "    y_label = f\"Average number of comparisons\" \n",
    "    \n",
    "    bar_plot_res(error_options, structures, query_stats, None, x_label, y_label, False, 20)"
   ]
  },
  {
   "cell_type": "code",
   "execution_count": null,
   "metadata": {},
   "outputs": [],
   "source": [
    "error_options = [(1, 0), (2, 1), (3, 2), (4, 3), (5, 4), (10, 9), (25, 24), (50, 49), (100, 99), (250, 249)]\n",
    "run_rank_error_experiments(NUM_KEYS, NUM_QUERIES, ZIPF_ALPHA, error_options, GEN)"
   ]
  }
 ],
 "metadata": {
  "kernelspec": {
   "display_name": "Python 3",
   "language": "python",
   "name": "python3"
  },
  "language_info": {
   "codemirror_mode": {
    "name": "ipython",
    "version": 3
   },
   "file_extension": ".py",
   "mimetype": "text/x-python",
   "name": "python",
   "nbconvert_exporter": "python",
   "pygments_lexer": "ipython3",
   "version": "3.10.12"
  }
 },
 "nbformat": 4,
 "nbformat_minor": 2
}
